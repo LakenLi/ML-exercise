{
 "cells": [
  {
   "cell_type": "code",
   "execution_count": 2,
   "metadata": {},
   "outputs": [],
   "source": [
    "# K折交叉验证\n",
    "\n",
    "import numpy as np\n",
    "from sklearn import datasets\n",
    "from sklearn.neighbors import KNeighborsClassifier\n",
    "from sklearn.model_selection import KFold             # 主要用于K折交叉验证"
   ]
  },
  {
   "cell_type": "code",
   "execution_count": 4,
   "metadata": {},
   "outputs": [
    {
     "name": "stdout",
     "output_type": "stream",
     "text": [
      "(150, 4) (150,)\n"
     ]
    }
   ],
   "source": [
    "iris = datasets.load_iris()\n",
    "X = iris.data\n",
    "y = iris.target\n",
    "print(X.shape, y.shape)"
   ]
  },
  {
   "cell_type": "code",
   "execution_count": 5,
   "metadata": {},
   "outputs": [],
   "source": [
    "# 定义想要搜索的K值\n",
    "ks = [1, 3, 5, 7, 9, 11, 13, 15]"
   ]
  },
  {
   "cell_type": "code",
   "execution_count": 6,
   "metadata": {},
   "outputs": [],
   "source": [
    "# 进行5折交叉验证，KFold返回的是每一折中训练数据和验证数据的index\n",
    "# 假设数据样本为：[1, 3, 5, 6, 11, 12, 43, 12, 44, 2]\n",
    "# 则返回的kf的格式为(前面的是训练数据，后面的是验证集)：\n",
    "# [0, 1, 3, 5, 6, 7, 8, 9], [2, 4]\n",
    "# [0, 1, 2, 4, 6, 7, 8, 9], [3, 5]\n",
    "# [1, 2, 3, 4, 5, 6, 7, 8], [0, 9]\n",
    "# [0, 1, 2, 3, 4, 5, 7, 9], [6, 8]\n",
    "# [0, 2, 3, 4, 5, 6, 8, 9], [1, 7]\n",
    "kf = KFold(n_splits = 5, random_state = 2001, shuffle = True)"
   ]
  },
  {
   "cell_type": "code",
   "execution_count": 7,
   "metadata": {},
   "outputs": [],
   "source": [
    "# 保存当前最好的K值和对应的准确率\n",
    "best_k = ks[0]\n",
    "best_score = 0"
   ]
  },
  {
   "cell_type": "code",
   "execution_count": 9,
   "metadata": {},
   "outputs": [
    {
     "name": "stdout",
     "output_type": "stream",
     "text": [
      "curretn best score is: 0.96 best k: 1\n",
      "curretn best score is: 0.96 best k: 1\n",
      "curretn best score is: 0.97 best k: 5\n",
      "curretn best score is: 0.98 best k: 7\n",
      "curretn best score is: 0.98 best k: 7\n",
      "curretn best score is: 0.98 best k: 7\n",
      "curretn best score is: 0.98 best k: 7\n",
      "curretn best score is: 0.98 best k: 7\n",
      "after cross validation, the final best k is: 7\n"
     ]
    }
   ],
   "source": [
    "for k in ks:\n",
    "    curr_score = 0\n",
    "    \n",
    "    for train_index, valid_index in kf.split(X):\n",
    "        # 每一折的训练以及计算准确率\n",
    "        clf = KNeighborsClassifier(n_neighbors = k)\n",
    "        clf.fit(X[train_index], y[train_index])\n",
    "        curr_score = curr_score + clf.score(X[valid_index], y[valid_index])\n",
    "    # 求5折的平均准确率\n",
    "    avg_score = curr_score / 5\n",
    "    if avg_score > best_score:\n",
    "        best_k = k\n",
    "        best_score = avg_score\n",
    "    print(\"curretn best score is: %.2f\"%best_score, \"best k: %d\"%best_k)\n",
    "\n",
    "print(\"after cross validation, the final best k is: %d\"%best_k)    "
   ]
  },
  {
   "cell_type": "code",
   "execution_count": null,
   "metadata": {},
   "outputs": [],
   "source": []
  }
 ],
 "metadata": {
  "kernelspec": {
   "display_name": "Python 3",
   "language": "python",
   "name": "python3"
  },
  "language_info": {
   "codemirror_mode": {
    "name": "ipython",
    "version": 3
   },
   "file_extension": ".py",
   "mimetype": "text/x-python",
   "name": "python",
   "nbconvert_exporter": "python",
   "pygments_lexer": "ipython3",
   "version": "3.7.3"
  }
 },
 "nbformat": 4,
 "nbformat_minor": 2
}
